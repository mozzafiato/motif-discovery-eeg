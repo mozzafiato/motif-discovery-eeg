{
 "cells": [
  {
   "cell_type": "code",
   "execution_count": null,
   "id": "b4125134",
   "metadata": {
    "pycharm": {
     "is_executing": true
    }
   },
   "outputs": [],
   "source": [
    "%matplotlib inline\n",
    "import stumpy\n",
    "\n",
    "import matplotlib.pyplot as plt\n",
    "import numpy as np\n",
    "import pandas as pd\n",
    "from matplotlib.patches import Rectangle\n",
    "import datetime\n",
    "import os\n",
    "import random\n",
    "\n",
    "from sklearn.model_selection import train_test_split"
   ]
  },
  {
   "cell_type": "code",
   "execution_count": null,
   "id": "ebc45c60",
   "metadata": {},
   "outputs": [],
   "source": [
    "from utils import Utils\n",
    "utils = Utils()"
   ]
  },
  {
   "cell_type": "markdown",
   "id": "47b21853",
   "metadata": {},
   "source": [
    "### Band"
   ]
  },
  {
   "cell_type": "code",
   "execution_count": null,
   "id": "29911896",
   "metadata": {},
   "outputs": [],
   "source": [
    "band=\"theta\"\n",
    "utils.read_data(band=band)"
   ]
  },
  {
   "cell_type": "code",
   "execution_count": null,
   "id": "dad8bf6b",
   "metadata": {},
   "outputs": [],
   "source": [
    "all_sequences = utils.get_all_patient_signals(length=n)[0:l]\n",
    "labels = np.array(utils.get_labels(labeling=1))\n",
    "\n",
    "final_test_sequences = utils.get_all_patient_signals(dataset=\"test\")\n",
    "final_test_labels = np.array(utils.get_labels(labeling=1, dataset=\"test\"))\n",
    "\n",
    "gender_info = np.array(utils.get_genders(dataset=\"train\"))\n",
    "test_gender = np.array(utils.get_genders(dataset=\"test\"))"
   ]
  },
  {
   "cell_type": "code",
   "execution_count": null,
   "id": "ef59d0cb",
   "metadata": {},
   "outputs": [],
   "source": [
    "str_now = str(datetime.datetime.now()).replace(\" \", \"\").replace(\"-\",\"\").replace(\":\", \"\").replace(\".\", \"\")[:-8]\n",
    "str_now = \"ostinato_\" + str_now + \"_\" + band\n",
    "os.mkdir(str_now)\n",
    "print(\"Created directory:\", str_now)"
   ]
  },
  {
   "cell_type": "code",
   "execution_count": null,
   "id": "81fc5800",
   "metadata": {},
   "outputs": [],
   "source": [
    "def get_balanced_split(all_sequences, labels, gender_info):\n",
    "\n",
    "    train_sequences = []\n",
    "    validation_sequences = []\n",
    "    train_labels = []\n",
    "    validation_labels = []\n",
    "    train_gender = []\n",
    "    validation_gender = []\n",
    "\n",
    "    for i in [0, 1]:\n",
    "        print(\"Gender:\", i)\n",
    "        gender_ind = list(np.argwhere(gender_info == i).T[0])\n",
    "\n",
    "        all_sequences_ = [sequences for j, sequences in enumerate(all_sequences) if j in gender_ind]\n",
    "        print(len(all_sequences_))\n",
    "        labels_ = [label for j, label in enumerate(labels) if j in gender_ind]\n",
    "        labels_ = np.array(labels_)\n",
    "\n",
    "        split_ratio = 0.15\n",
    "        if i == 1:\n",
    "            split_ratio = 0.3\n",
    "\n",
    "        train_sequences_, validation_sequences_, train_labels_, validation_labels_, train_ind, val_ind = train_test_split(all_sequences_, labels_, gender_ind, stratify=labels_, test_size=split_ratio, random_state=2)\n",
    "        print(\"--Train:\", len(train_sequences_))\n",
    "        print(\"patient indexes:\", train_ind)\n",
    "        print(\"----\", sum(train_labels_ == 0))\n",
    "        print(\"----\", sum(train_labels_ == 1))\n",
    "        print(\"--Val:\", len(validation_sequences_))\n",
    "        print(\"patient indexes:\", val_ind)\n",
    "        print(\"----\", sum(validation_labels_ == 0))\n",
    "        print(\"----\", sum(validation_labels_ == 1))\n",
    "\n",
    "        train_sequences.append(train_sequences_)\n",
    "        validation_sequences.append(validation_sequences_)\n",
    "        train_labels.append(list(train_labels_))\n",
    "        validation_labels.append(list(validation_labels_))\n",
    "        train_gender.append([i]*len(train_sequences_))\n",
    "        validation_gender.append([i]*len(validation_sequences_))\n",
    "\n",
    "    # flatten\n",
    "    train_sequences = sum(train_sequences, [])\n",
    "    validation_sequences = sum(validation_sequences, [])\n",
    "    train_labels = np.array(sum(train_labels, []))\n",
    "    validation_labels = np.array(sum(validation_labels, []))\n",
    "    train_gender = sum(train_gender, [])\n",
    "    validation_gender = sum(validation_gender, [])\n",
    "    \n",
    "    return train_sequences, validation_sequences, train_labels, validation_labels, train_gender, validation_gender"
   ]
  },
  {
   "cell_type": "markdown",
   "id": "2b538fba",
   "metadata": {},
   "source": [
    "### Plotting methods"
   ]
  },
  {
   "cell_type": "code",
   "execution_count": null,
   "id": "f1d35780",
   "metadata": {},
   "outputs": [],
   "source": [
    "def plot_consensus_motifs(sequences, Ts_idx, subseq_idx):\n",
    "    fig_size = plt.rcParams[\"figure.figsize\"]\n",
    "    fig_size[0] = 10\n",
    "    fig_size[1] = 4\n",
    "    plt.rcParams[\"figure.figsize\"] = fig_size\n",
    "    found_motifs = []\n",
    "\n",
    "    seed_motif = sequences[Ts_idx][subseq_idx : subseq_idx + m]\n",
    "    x = np.linspace(0,1,m)\n",
    "    nn = np.zeros(len(sequences), dtype=np.int64)\n",
    "    nn[Ts_idx] = subseq_idx\n",
    "    for i, e in enumerate(sequences):\n",
    "        if i != Ts_idx:\n",
    "            nn[i] = np.argmin(stumpy.core.mass(seed_motif, e))\n",
    "            lw = 1\n",
    "            label = None\n",
    "        else:\n",
    "            lw = 6\n",
    "            label = \"ind\" + str(i+1) + ' (seed)'\n",
    "        plt.plot(x, e[nn[i]:nn[i]+m], lw=lw, label=label)\n",
    "        found_motifs.append(e[nn[i]:nn[i]+m])\n",
    "    plt.title('The Consensus Motif')\n",
    "    plt.xlabel('Time')\n",
    "    plt.legend()\n",
    "    plt.show()\n",
    "    \n",
    "    return found_motifs"
   ]
  },
  {
   "cell_type": "code",
   "execution_count": null,
   "id": "584ac291",
   "metadata": {},
   "outputs": [],
   "source": [
    "def plot_distances_to_seed(seed_motif, sequences_0, sequences_1):\n",
    "    distances_0 = []\n",
    "    distances_1 = []\n",
    "    \n",
    "    for sequence in sequences_0:\n",
    "        matches = stumpy.match(seed_motif, sequence, max_distance=None, max_matches=2, normalize=True, p=2.0)\n",
    "        dist = np.min(matches[:, 0])\n",
    "        distances_0.append(dist)\n",
    "        \n",
    "    for sequence in sequences_1:\n",
    "        matches = stumpy.match(seed_motif, sequence, max_distance=None, max_matches=2, normalize=True, p=2.0)\n",
    "        dist = np.min(matches[:, 0])\n",
    "        distances_1.append(dist)\n",
    "        \n",
    "    distances_0 = sorted(distances_0)\n",
    "    distances_1 = sorted(distances_1)\n",
    "    plt.plot(distances_0, label=\"class_0\")\n",
    "    plt.plot(distances_1, label=\"class_1\")\n",
    "    plt.legend()\n",
    "    plt.show()"
   ]
  },
  {
   "cell_type": "markdown",
   "id": "1f62a2c8",
   "metadata": {},
   "source": [
    "### Data generating/saving methods"
   ]
  },
  {
   "cell_type": "code",
   "execution_count": null,
   "id": "417f39a7",
   "metadata": {},
   "outputs": [],
   "source": [
    "def generate_feature_matrix(input_sequences, input_motifs, input_electrodes):\n",
    "    X = []\n",
    "    # iterate over given patients\n",
    "    for j, sequences in enumerate(input_sequences):\n",
    "        print(\"Patient\", j+1)\n",
    "        patient_motif_distances = []\n",
    "        # iterate over all discovered motifs\n",
    "        for i, motif in enumerate(input_motifs):\n",
    "            electrode = input_electrodes[i]\n",
    "\n",
    "            signal = sequences[electrode]\n",
    "            matches = stumpy.match(motif, signal, max_distance=None, max_matches=3, normalize=True, p=2.0)\n",
    "            if len(matches) == 0:\n",
    "                patient_motif_distances.append(np.nan)\n",
    "            else:\n",
    "                patient_motif_distances.append(np.mean(matches[:, 0]))\n",
    "        X.append(patient_motif_distances)\n",
    "    return X"
   ]
  },
  {
   "cell_type": "code",
   "execution_count": null,
   "id": "58d61b44",
   "metadata": {},
   "outputs": [],
   "source": [
    "def save_feature_matrices(m, final_motifs, final_electrodes, motif_names, path='./feature_matrices/'):\n",
    "    X_train = generate_feature_matrix(train_sequences, final_motifs, final_electrodes)\n",
    "    print(len(X_train))\n",
    "    print(len(X_train[0]))\n",
    "\n",
    "    X_validation_final = generate_feature_matrix(validation_sequences, final_motifs, final_electrodes)\n",
    "    print(len(X_validation_final))\n",
    "    print(len(X_validation_final[0]))\n",
    "    \n",
    "    X_test_final = generate_feature_matrix(final_test_sequences, final_motifs, final_electrodes)\n",
    "    print(len(X_test_final))\n",
    "    print(len(X_test_final[0]))\n",
    "\n",
    "    df_train = pd.DataFrame(data = np.array(X_train), columns = motif_names)\n",
    "    df_train[\"label\"] = train_labels\n",
    "    print(df_train.head())\n",
    "    df_train.to_csv(path+\"motifs_{}_m{}_train.csv\".format(band, m), index=False)\n",
    "    print(\"Writing... train feature matrix\")\n",
    "\n",
    "    df_validation = pd.DataFrame(data = np.array(X_validation_final), columns = motif_names)\n",
    "    df_validation[\"label\"] = validation_labels\n",
    "    print(df_validation.head())\n",
    "    df_validation.to_csv(path+\"motifs_{}_m{}_val.csv\".format(band, m), index=False)\n",
    "    print(\"Writing... validation feature matrix\")\n",
    "    \n",
    "    df_test = pd.DataFrame(data = np.array(X_test_final), columns = motif_names)\n",
    "    df_test[\"label\"] = final_test_labels\n",
    "    print(df_test.head())\n",
    "    df_test.to_csv(save_path + \"motifs_ostinato{}test_m={}.csv\".format(name, m), index=False)\n",
    "    print(\"Writing... testing feature matrix\")"
   ]
  },
  {
   "cell_type": "code",
   "execution_count": null,
   "id": "bb1fbf22",
   "metadata": {},
   "outputs": [],
   "source": [
    "def save_motif_data(m, all_motifs, seed_motif_patient, seed_motif_idx, all_electrodes, all_genders, all_classes, all_diff_scores, save_path=\"./\", name=\"_\"):\n",
    "    df_motifs = pd.DataFrame()\n",
    "    df_motifs[\"motif\"] = all_motifs\n",
    "    df_motifs[\"train_ind\"] = seed_motif_patient\n",
    "    df_motifs[\"indexes\"] = seed_motif_idx\n",
    "    df_motifs[\"electrode\"] = all_electrodes\n",
    "    df_motifs[\"gender\"] = all_genders\n",
    "    df_motifs[\"class\"] = all_classes\n",
    "    df_motifs[\"diff_score\"] = all_diff_scores\n",
    "    print(df_motifs.head())\n",
    "    df_motifs.to_csv(save_path + \"motifs_ostinato_exp{}m={}.csv\".format(name, m), index=False)"
   ]
  },
  {
   "cell_type": "markdown",
   "id": "2c07261a",
   "metadata": {},
   "source": [
    "### Filter out motifs that are similarly present (heuristics) among the two classes"
   ]
  },
  {
   "cell_type": "code",
   "execution_count": null,
   "id": "fa518230",
   "metadata": {},
   "outputs": [],
   "source": [
    "def compute_distances_to_classes(motif, input_sequences, input_labels, electrode, index):\n",
    "    \n",
    "    class_0_ind = list(np.argwhere(input_labels == 0).T[0])\n",
    "    class_1_ind = list(np.argwhere(input_labels == 1).T[0])\n",
    "    \n",
    "    distances = []\n",
    "    for j, sequences in enumerate(input_sequences):\n",
    "        #print(\"Patient\", j+1)\n",
    "        signal = sequences[electrode]\n",
    "\n",
    "        matches = stumpy.match(motif, signal, max_distance=None, max_matches=10, normalize=True, p=2.0)\n",
    "        if len(matches) == 0:\n",
    "            distances.append(np.nan)\n",
    "        else:\n",
    "            dist = np.mean(matches[:, 0])\n",
    "            distances.append(dist)\n",
    "        \n",
    "    perc = int(len(input_sequences)/3)\n",
    "    \n",
    "    class_0_distances = [distances[i] for i in class_0_ind if round(distances[i]) > 0 and i!=index]\n",
    "    class_0_distances_ = sorted(class_0_distances)[0:perc]\n",
    "    class_1_distances = [distances[i] for i in class_1_ind if round(distances[i]) > 0 and i!=index]\n",
    "    class_1_distances_ = sorted(class_1_distances)[0:perc]\n",
    "    \n",
    "    return class_0_distances, class_1_distances, class_0_distances_, class_1_distances_ "
   ]
  },
  {
   "cell_type": "markdown",
   "id": "9479a59f",
   "metadata": {},
   "source": [
    "###  Run Ostinato"
   ]
  },
  {
   "cell_type": "markdown",
   "id": "b30949ec",
   "metadata": {},
   "source": [
    "#### 1. Group electrodes by the class"
   ]
  },
  {
   "cell_type": "code",
   "execution_count": null,
   "id": "d1f055ae",
   "metadata": {},
   "outputs": [],
   "source": [
    "# Separate the sets by the labels\n",
    "sequence_dict = dict({\n",
    "    \"class_0\": dict({}),\n",
    "    \"class_1\": dict({})\n",
    "})\n",
    "\n",
    "for i in range(19):\n",
    "    sequence_dict[\"class_0\"][i] = []\n",
    "    sequence_dict[\"class_1\"][i] = []\n",
    "    for j in range(len(train_sequences)):\n",
    "        if train_labels[j] == 0:\n",
    "            sequence_dict[\"class_0\"][i].append(train_sequences[j][i])\n",
    "        else:\n",
    "            sequence_dict[\"class_1\"][i].append(train_sequences[j][i])"
   ]
  },
  {
   "cell_type": "code",
   "execution_count": null,
   "id": "f145c354",
   "metadata": {
    "scrolled": true
   },
   "outputs": [],
   "source": [
    "for m in [50, 100, 250, 500, 1000, 2000]:\n",
    "    print(m)\n",
    "    all_motifs = []\n",
    "    all_electrodes = []\n",
    "\n",
    "    seed_motif_patient = []\n",
    "    seed_motif_idx = []\n",
    "\n",
    "    motif_names = []\n",
    "\n",
    "    for class_label in [\"class_0\", \"class_1\"]:\n",
    "        print(\"Class:\", class_label)\n",
    "\n",
    "        for el in range(19):\n",
    "            print(\"Electrode:\", el)\n",
    "            sequences = sequence_dict[class_label][el]\n",
    "\n",
    "            radius, Ts_idx, subseq_idx = stumpy.ostinato(sequences, m)\n",
    "            print(f'Found Best Radius {np.round(radius, 2)} in time series {Ts_idx} starting at subsequence index location {subseq_idx}.')\n",
    "            #found_motifs = plot_consensus_motifs(sequences, Ts_idx, subseq_idx)\n",
    "\n",
    "            seed_motif = sequences[Ts_idx][subseq_idx : subseq_idx + m]\n",
    "\n",
    "            all_motifs.append(seed_motif)\n",
    "            all_electrodes.append(el)\n",
    "\n",
    "            seed_motif_patient.append(Ts_idx)\n",
    "            seed_motif_idx.append(subseq_idx)\n",
    "\n",
    "            motif_names.append(\"{}_el_{}\".format(class_label, el))\n",
    "\n",
    "            #plot_distances_to_seed(seed_motif, sequence_dict[\"class_0\"][el], sequence_dict[\"class_1\"][el])\n",
    "\n",
    "    # save result\n",
    "    save_motif_data(m, seed_motif_patient, seed_motif_idx, all_electrodes, save_path=str_now + \"/\")\n",
    "    save_feature_matrices(m, all_motifs, all_electrodes, motif_names, path=str_now + \"/\")"
   ]
  },
  {
   "cell_type": "markdown",
   "id": "e30cf293",
   "metadata": {},
   "source": [
    "#### 2. Group electrodes by the labels and gender"
   ]
  },
  {
   "cell_type": "code",
   "execution_count": null,
   "id": "7a0346e7",
   "metadata": {},
   "outputs": [],
   "source": [
    "# Separate the sets by the labels\n",
    "sequence_dict = dict({\n",
    "    \"class_0\": dict({\n",
    "        \"gender_0\": dict({}),\n",
    "        \"gender_1\": dict({}),\n",
    "    }),\n",
    "    \"class_1\": dict({\n",
    "        \"gender_0\": dict({}),\n",
    "        \"gender_1\": dict({}),\n",
    "    })\n",
    "})\n",
    "\n",
    "# initialize\n",
    "for i in range(19):\n",
    "    for class_ in [\"class_0\", \"class_1\"]:\n",
    "        for gender_ in [\"gender_0\", \"gender_1\"]:\n",
    "            sequence_dict[class_][gender_][i] = []\n",
    "\n",
    "\n",
    "for i in range(19):\n",
    "    for j in range(len(train_sequences)):\n",
    "        sequence_dict[\"class_{}\".format(train_labels[j])][\"gender_{}\".format(train_gender[j])][i].append(train_sequences[j][i])"
   ]
  },
  {
   "cell_type": "code",
   "execution_count": null,
   "id": "93d8d769",
   "metadata": {},
   "outputs": [],
   "source": [
    "for class_ in [\"class_0\", \"class_1\"]:\n",
    "    for gender_ in [\"gender_0\", \"gender_1\"]:\n",
    "        print(class_, gender_)\n",
    "        print(len(sequence_dict[class_][gender_][0]))"
   ]
  },
  {
   "cell_type": "code",
   "execution_count": null,
   "id": "194db458",
   "metadata": {},
   "outputs": [],
   "source": [
    "for m in [50, 100, 250, 500, 1000, 2000]:\n",
    "    print(m)\n",
    "    all_motifs = []\n",
    "    all_electrodes = []\n",
    "    all_genders = []\n",
    "    all_classes = []\n",
    "    all_diff_scores = []\n",
    "    \n",
    "    seed_motif_patient = []\n",
    "    seed_motif_idx = []\n",
    "\n",
    "    motif_names = []\n",
    "\n",
    "    for class_label in [\"class_0\", \"class_1\"]:\n",
    "        print(\"Class:\", class_label)\n",
    "        for gender in [\"gender_0\", \"gender_1\"]:\n",
    "            print(\"Gender:\", gender)\n",
    "\n",
    "            for el in range(19):\n",
    "                for repetition in range(3):\n",
    "                    print(\"Electrode:\", el)\n",
    "                    sequences = sequence_dict[class_label][gender][el]\n",
    "                    \n",
    "                    # randomly choose the sequences\n",
    "                    chosen_sequences = random.sample(sequences, int(len(sequences)/3))\n",
    "                    print(len(chosen_sequences))\n",
    "\n",
    "                    radius, Ts_idx, subseq_idx = stumpy.ostinato(chosen_sequences, m)\n",
    "                    print(f'Found Best Radius {np.round(radius, 2)} in time series {Ts_idx} starting at subsequence index location {subseq_idx}.')\n",
    "                    found_motifs = plot_consensus_motifs(chosen_sequences, Ts_idx, subseq_idx)\n",
    "\n",
    "                    seed_motif = chosen_sequences[Ts_idx][subseq_idx : subseq_idx + m]\n",
    "                    \n",
    "                    class_0_distances, class_1_distances, class_0_distances_, class_1_distances_ = compute_distances_to_classes(seed_motif, train_sequences, train_labels, el)\n",
    "                    diff = np.abs(np.mean(class_0_distances) - np.mean(class_1_distances))\n",
    "                    diff_ = np.abs(np.mean(class_0_distances_) - np.mean(class_1_distances_))\n",
    "                    print(diff_)\n",
    "                    \n",
    "                    all_diff_scores.append(diff_)\n",
    "                    all_motifs.append(seed_motif)\n",
    "                    all_electrodes.append(el)\n",
    "                    all_genders.append(gender)\n",
    "                    all_classes.append(class_label)\n",
    "\n",
    "                    seed_motif_patient.append(Ts_idx)\n",
    "                    seed_motif_idx.append(subseq_idx)\n",
    "\n",
    "                    motif_names.append(\"{}_{}_el_{}\".format(class_label, gender, el))\n",
    "\n",
    "                    #plot_distances_to_seed(seed_motif, sequence_dict[\"class_0\"][el], sequence_dict[\"class_1\"][el])\n",
    "\n",
    "    # save result\n",
    "    save_motif_data(m, all_motifs, seed_motif_patient, seed_motif_idx, all_electrodes, all_genders, all_classes, all_diff_scores, save_path=str_now + \"/\", name=\"_gender_\")\n",
    "    save_feature_matrices(m, all_motifs, all_electrodes, motif_names, save_path=str_now + \"/\")"
   ]
  },
  {
   "cell_type": "code",
   "execution_count": null,
   "id": "a57d5a43",
   "metadata": {},
   "outputs": [],
   "source": []
  }
 ],
 "metadata": {
  "kernelspec": {
   "display_name": "Python 3 (ipykernel)",
   "language": "python",
   "name": "python3"
  },
  "language_info": {
   "codemirror_mode": {
    "name": "ipython",
    "version": 3
   },
   "file_extension": ".py",
   "mimetype": "text/x-python",
   "name": "python",
   "nbconvert_exporter": "python",
   "pygments_lexer": "ipython3",
   "version": "3.9.12"
  }
 },
 "nbformat": 4,
 "nbformat_minor": 5
}
