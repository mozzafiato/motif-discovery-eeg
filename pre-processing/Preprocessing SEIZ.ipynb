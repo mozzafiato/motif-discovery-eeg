{
 "cells": [
  {
   "cell_type": "code",
   "execution_count": 41,
   "metadata": {
    "pycharm": {
     "is_executing": true
    }
   },
   "outputs": [],
   "source": [
    "import pandas as pd\n",
    "import os\n",
    "import numpy as np\n",
    "import pickle\n",
    "import mne"
   ]
  },
  {
   "cell_type": "code",
   "execution_count": null,
   "metadata": {},
   "outputs": [],
   "source": [
    "# this dataset\n",
    "channels = [\n",
    "\"FP1-F7\",\n",
    "\"F7-T7\",\n",
    "\"T7-P7\",\n",
    "\"P7-O1\",\n",
    "\"P1-F3\",\n",
    "\"F3-C3\",\n",
    "\"C3-P3\",\n",
    "\"P3-O1\",\n",
    "\"FP2-F4\",\n",
    "\"F4-C4\",\n",
    "\"C4-P4\",\n",
    "\"P4-O2\",\n",
    "\"FP2-F8\",\n",
    "\"F8-T8\",\n",
    "\"T8-P8\",\n",
    "\"P8-O2\",\n",
    " \"FZ-CZ\",\n",
    "\"CZ-PZ\",\n",
    "\"P7-T7\",\n",
    "\"T7-FT9\",\n",
    "\"FT9-FT10\",\n",
    "\"FT10-T8\",\n",
    "\"T8-P8\"\n",
    "]\n",
    "\n",
    "gender=[0,1,0,1,0,0,0,1,0,1,0,0,0,0,1,0,0,0,0,0,0,0,0]\n",
    "\n",
    "n = 23\n",
    "\n",
    "labels = np.zeros(2*n)\n",
    "print(labels)\n",
    "\n",
    "patient_dict = dict()\n",
    "for i in range(2*n):\n",
    "    patient_dict[i] = dict()\n",
    "    for j in range(len(channels)):\n",
    "        patient_dict[i][j] = []\n",
    "        \n",
    "patient_dict"
   ]
  },
  {
   "cell_type": "code",
   "execution_count": null,
   "metadata": {
    "scrolled": true
   },
   "outputs": [],
   "source": [
    "path = './'\n",
    "file_i = 0\n",
    "\n",
    "for filename in os.listdir(path):\n",
    "    if 'chb' in filename:\n",
    "        print(filename)\n",
    "        \n",
    "        label = int(file_i%2)\n",
    "        labels[file_i] = label\n",
    "        p_id = file_i+1\n",
    "                \n",
    "        \n",
    "        data = mne.io.read_raw_edf(filename)\n",
    "        print(len(data))\n",
    "        \n",
    "        for j, c in enumerate(channels):\n",
    "            signal_data = data.get_data(picks=j)[0]\n",
    "            patient_dict[file_i][j] = signal_data\n",
    "        \n",
    "        file_i += 1\n",
    "        "
   ]
  },
  {
   "cell_type": "code",
   "execution_count": 103,
   "metadata": {},
   "outputs": [
    {
     "data": {
      "text/plain": [
       "46"
      ]
     },
     "execution_count": 103,
     "metadata": {},
     "output_type": "execute_result"
    }
   ],
   "source": [
    "len(labels)"
   ]
  },
  {
   "cell_type": "code",
   "execution_count": 111,
   "metadata": {
    "scrolled": true
   },
   "outputs": [
    {
     "name": "stdout",
     "output_type": "stream",
     "text": [
      "dictionary saved successfully to file\n"
     ]
    }
   ],
   "source": [
    "with open('patient_eeg_46.pickle', 'wb') as fp:\n",
    "    pickle.dump(patient_dict, fp)\n",
    "    print('dictionary saved successfully to file')"
   ]
  },
  {
   "cell_type": "code",
   "execution_count": 113,
   "metadata": {},
   "outputs": [],
   "source": [
    "idx = list(range(2*n))\n",
    "labels_df = pd.DataFrame()\n",
    "labels_df['patient'] = idx\n",
    "labels_df['label1'] = labels\n",
    "labels_df.head()\n",
    "labels_df.to_csv('labels.csv', index=False)"
   ]
  },
  {
   "cell_type": "code",
   "execution_count": null,
   "metadata": {},
   "outputs": [],
   "source": []
  }
 ],
 "metadata": {
  "kernelspec": {
   "display_name": "Python 3 (ipykernel)",
   "language": "python",
   "name": "python3"
  },
  "language_info": {
   "codemirror_mode": {
    "name": "ipython",
    "version": 3
   },
   "file_extension": ".py",
   "mimetype": "text/x-python",
   "name": "python",
   "nbconvert_exporter": "python",
   "pygments_lexer": "ipython3",
   "version": "3.9.12"
  }
 },
 "nbformat": 4,
 "nbformat_minor": 1
}
