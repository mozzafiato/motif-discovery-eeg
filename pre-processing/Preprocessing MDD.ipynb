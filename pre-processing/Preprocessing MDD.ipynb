{
 "cells": [
  {
   "cell_type": "code",
   "execution_count": null,
   "id": "b3fea80c",
   "metadata": {
    "pycharm": {
     "is_executing": true
    }
   },
   "outputs": [],
   "source": [
    "import mat73\n",
    "import pandas as pd\n",
    "import numpy as np\n",
    "import pickle"
   ]
  },
  {
   "cell_type": "markdown",
   "id": "5d05e09b",
   "metadata": {},
   "source": [
    "### Read data"
   ]
  },
  {
   "cell_type": "code",
   "execution_count": null,
   "id": "83106333",
   "metadata": {},
   "outputs": [],
   "source": [
    "data_dict = mat73.loadmat('../Prepro_EEG_Nov22.mat')"
   ]
  },
  {
   "cell_type": "code",
   "execution_count": null,
   "id": "be1c022a",
   "metadata": {},
   "outputs": [],
   "source": [
    "print(data_dict['data'].keys())"
   ]
  },
  {
   "cell_type": "markdown",
   "id": "aaacb173",
   "metadata": {},
   "source": [
    "### Cleaning"
   ]
  },
  {
   "cell_type": "code",
   "execution_count": null,
   "id": "cd9d5645",
   "metadata": {},
   "outputs": [],
   "source": [
    "# clean names\n",
    "names = data_dict[\"data\"][\"name\"]\n",
    "corrected_names =[]\n",
    "for name in names:\n",
    "    if type(name) == list:\n",
    "        corrected_names.append(name[0])\n",
    "    else:\n",
    "        corrected_names.append(name)\n",
    "        \n",
    "data_dict[\"data\"][\"name\"] = corrected_names"
   ]
  },
  {
   "cell_type": "code",
   "execution_count": null,
   "id": "6193523a",
   "metadata": {},
   "outputs": [],
   "source": [
    "# filter out participants with missing EEGS\n",
    "def clean_data(data_dict):\n",
    "    \n",
    "    # collect index with missing signal\n",
    "    indx = []\n",
    "    missing = []\n",
    "\n",
    "    for i in range(len(data_dict['data']['EEG_prepro'])):\n",
    "        \n",
    "        if data_dict['data']['EEG_prepro'][i] is None:\n",
    "            #print(\"data at index\", i, \" is None\")\n",
    "            missing.append(i)\n",
    "        else:\n",
    "            indx.append(i)\n",
    "    \n",
    "    names = data_dict[\"data\"][\"name\"]\n",
    "    missing_names = [names[miss] for miss in missing]\n",
    "    #print(missing_names)\n",
    "    \n",
    "    ind = 1\n",
    "    eegs = dict()\n",
    "    \n",
    "    for i in range(len(data_dict['data']['EEG_prepro'])):\n",
    "        \n",
    "        if data_dict[\"data\"][\"name\"][i] not in missing_names:\n",
    "            if i%2 != 0:\n",
    "                eegs[f\"P{ind:03}\"] = data_dict['data']['EEG_prepro'][i][\"data\"]\n",
    "                ind += 1\n",
    "    \n",
    "    return eegs, missing_names"
   ]
  },
  {
   "cell_type": "code",
   "execution_count": null,
   "id": "a60f6cae",
   "metadata": {},
   "outputs": [],
   "source": [
    "eegs, missing_names = clean_data(data_dict)\n",
    "#print(eegs)\n",
    "print(len(eegs))"
   ]
  },
  {
   "cell_type": "code",
   "execution_count": null,
   "id": "29b4a0d5",
   "metadata": {
    "scrolled": true
   },
   "outputs": [],
   "source": [
    "for i in range(len(data_dict[\"data\"][\"EEG_prepro\"])):\n",
    "    if data_dict[\"data\"][\"name\"][i] in missing_names:\n",
    "        print(data_dict[\"data\"][\"name\"][i])\n",
    "        if data_dict[\"data\"][\"EEG_prepro\"][i] is None:\n",
    "            print(\"***None\")\n",
    "        else:\n",
    "            print(\"***Not none\")"
   ]
  },
  {
   "cell_type": "code",
   "execution_count": null,
   "id": "ca9e19da",
   "metadata": {},
   "outputs": [],
   "source": [
    "eegs.keys()"
   ]
  },
  {
   "cell_type": "code",
   "execution_count": null,
   "id": "41f3163b",
   "metadata": {},
   "outputs": [],
   "source": [
    "with open('patient_eeg_176.pickle', 'wb') as handle:\n",
    "    pickle.dump(eegs, handle, protocol=pickle.HIGHEST_PROTOCOL)"
   ]
  },
  {
   "cell_type": "code",
   "execution_count": null,
   "id": "3f147f8b",
   "metadata": {},
   "outputs": [],
   "source": []
  }
 ],
 "metadata": {
  "kernelspec": {
   "display_name": "Python 3 (ipykernel)",
   "language": "python",
   "name": "python3"
  },
  "language_info": {
   "codemirror_mode": {
    "name": "ipython",
    "version": 3
   },
   "file_extension": ".py",
   "mimetype": "text/x-python",
   "name": "python",
   "nbconvert_exporter": "python",
   "pygments_lexer": "ipython3",
   "version": "3.9.12"
  }
 },
 "nbformat": 4,
 "nbformat_minor": 5
}
