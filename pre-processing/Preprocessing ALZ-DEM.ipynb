{
 "cells": [
  {
   "cell_type": "code",
   "execution_count": 3,
   "metadata": {},
   "outputs": [],
   "source": [
    "import pandas as pd\n",
    "import os\n",
    "import numpy as np\n",
    "import pickle\n",
    "import mne"
   ]
  },
  {
   "cell_type": "code",
   "execution_count": 59,
   "metadata": {},
   "outputs": [],
   "source": [
    "# this dataset\n",
    "channels = [\"Fp1\", \"Fp2\", \"F7\", \"F3\", \"Fz\", \"F4\", \"F8\", \"T3\", \"C3\", \"Cz\", \"C4\", \"T4\", \"T5\", \"P3\", \"Pz\", \"P4\", \"T6\", \"O1\", \"O2\"]\n",
    "\n",
    "n1 = 65\n",
    "n2 = 52\n",
    "\n",
    "labels1 = np.zeros(n1)\n",
    "labels2 = np.zeros(n2)\n",
    "\n",
    "patient_dict1 = dict()\n",
    "for i in range(n1):\n",
    "    patient_dict1[i] = dict()\n",
    "    for j in range(len(channels)):\n",
    "        patient_dict1[i][j] = []\n",
    "\n",
    "patient_dict2 = dict()\n",
    "for i in range(n2):\n",
    "    patient_dict2[i] = dict()\n",
    "    for j in range(len(channels)):\n",
    "        patient_dict2[i][j] = []\n",
    "        "
   ]
  },
  {
   "cell_type": "code",
   "execution_count": 9,
   "metadata": {},
   "outputs": [
    {
     "name": "stdout",
     "output_type": "stream",
     "text": [
      "  participant_id Gender  Age Group  MMSE\n",
      "0        sub-001      F   57     A    16\n",
      "1        sub-002      F   78     A    22\n",
      "2        sub-003      M   70     A    14\n",
      "3        sub-004      F   67     A    20\n",
      "4        sub-005      M   70     A    22\n"
     ]
    },
    {
     "data": {
      "text/plain": [
       "Group\n",
       "A    36\n",
       "C    29\n",
       "F    23\n",
       "Name: count, dtype: int64"
      ]
     },
     "execution_count": 9,
     "metadata": {},
     "output_type": "execute_result"
    }
   ],
   "source": [
    "patient_info = pd.read_csv(\"participants.tsv\", delimiter=\"\\t\")\n",
    "print(patient_info.head())\n",
    "groups = patient_info[\"Group\"]\n",
    "groups.value_counts()"
   ]
  },
  {
   "cell_type": "code",
   "execution_count": 53,
   "metadata": {},
   "outputs": [
    {
     "name": "stdout",
     "output_type": "stream",
     "text": [
      "0     F\n",
      "1     F\n",
      "2     M\n",
      "3     F\n",
      "4     M\n",
      "     ..\n",
      "83    F\n",
      "84    M\n",
      "85    M\n",
      "86    M\n",
      "87    M\n",
      "Name: Gender, Length: 88, dtype: object\n",
      "[0, 0, 1, 0, 1, 0, 0, 1, 0, 1, 1, 1, 0, 1, 1, 0, 0, 0, 0, 1, 1, 0, 1, 0, 0, 0, 0, 1, 0, 0, 0, 0, 0, 0, 0, 0, 1, 1, 1, 1, 0, 1, 1, 0, 0, 1, 0, 1, 0, 1, 0, 0, 1, 1, 1, 0, 1, 1, 1, 0, 0, 1, 1, 1, 0, 1, 1, 1, 1, 0, 1, 1, 0, 0, 0, 1, 1, 1, 0, 0, 0, 1, 0, 0, 1, 1, 1, 1]\n"
     ]
    }
   ],
   "source": [
    "gender = patient_info[\"Gender\"]\n",
    "print(gender)\n",
    "mapper = {\n",
    "    'F': 0,\n",
    "    'M': 1\n",
    "}\n",
    "gender = [mapper[g] for g in gender]\n",
    "print(gender)"
   ]
  },
  {
   "cell_type": "code",
   "execution_count": null,
   "metadata": {},
   "outputs": [],
   "source": [
    "path = './'\n",
    "file_i = 0\n",
    "ind1 = 0\n",
    "ind2 = 0\n",
    "\n",
    "gender1 = []\n",
    "gender2 = []\n",
    "\n",
    "labels1 = []\n",
    "labels2 = []\n",
    "\n",
    "for filename in os.listdir(path):\n",
    "    if 'sub' in filename:\n",
    "        print(file_i)\n",
    "        print(ind1, ind2)\n",
    "        print(filename)\n",
    "        eeg_file = \"{}\\eeg\\{}_task-eyesclosed_eeg.set\".format(filename, filename)\n",
    "        print(eeg_file)\n",
    "        data = mne.io.read_raw_eeglab(eeg_file)\n",
    "\n",
    "        \n",
    "        for j, c in enumerate(channels):\n",
    "\n",
    "            signal_data = data.get_data(picks=j)[0]\n",
    "            signal_data = signal_data\n",
    "            \n",
    "            if patient_info[\"Group\"][file_i] == \"A\":\n",
    "                patient_dict1[ind1][j] = signal_data\n",
    " \n",
    "            if patient_info[\"Group\"][file_i] == \"F\":\n",
    "                patient_dict2[ind2][j] = signal_data\n",
    "\n",
    "            if patient_info[\"Group\"][file_i] == \"C\":\n",
    "                patient_dict1[ind1][j] = signal_data\n",
    "                patient_dict2[ind2][j] = signal_data\n",
    "            \n",
    "        if patient_info[\"Group\"][file_i] == \"A\": \n",
    "            labels1.append(0)\n",
    "            gender1.append(gender[file_i])\n",
    "            ind1+=1\n",
    "        if patient_info[\"Group\"][file_i] == \"F\": \n",
    "            labels2.append(0)\n",
    "            gender2.append(gender[file_i])\n",
    "            ind2+=1\n",
    "        if patient_info[\"Group\"][file_i] == \"C\":\n",
    "            labels1.append(1)\n",
    "            labels2.append(1)\n",
    "            gender1.append(gender[file_i])\n",
    "            gender2.append(gender[file_i])\n",
    "            ind1+=1\n",
    "            ind2+=1\n",
    "\n",
    "        file_i+=1"
   ]
  },
  {
   "cell_type": "code",
   "execution_count": 46,
   "metadata": {
    "scrolled": true
   },
   "outputs": [
    {
     "name": "stdout",
     "output_type": "stream",
     "text": [
      "dictionary saved successfully to file\n"
     ]
    }
   ],
   "source": [
    "with open('patient_eeg_alz.pickle', 'wb') as fp:\n",
    "    pickle.dump(patient_dict1, fp)\n",
    "    print('dictionary saved successfully to file')"
   ]
  },
  {
   "cell_type": "code",
   "execution_count": 47,
   "metadata": {},
   "outputs": [
    {
     "name": "stdout",
     "output_type": "stream",
     "text": [
      "dictionary saved successfully to file\n"
     ]
    }
   ],
   "source": [
    "with open('patient_eeg_dem.pickle', 'wb') as fp:\n",
    "    pickle.dump(patient_dict2, fp)\n",
    "    print('dictionary saved successfully to file')"
   ]
  },
  {
   "cell_type": "code",
   "execution_count": 66,
   "metadata": {},
   "outputs": [
    {
     "data": {
      "text/html": [
       "<div>\n",
       "<style scoped>\n",
       "    .dataframe tbody tr th:only-of-type {\n",
       "        vertical-align: middle;\n",
       "    }\n",
       "\n",
       "    .dataframe tbody tr th {\n",
       "        vertical-align: top;\n",
       "    }\n",
       "\n",
       "    .dataframe thead th {\n",
       "        text-align: right;\n",
       "    }\n",
       "</style>\n",
       "<table border=\"1\" class=\"dataframe\">\n",
       "  <thead>\n",
       "    <tr style=\"text-align: right;\">\n",
       "      <th></th>\n",
       "      <th>patient</th>\n",
       "      <th>label1</th>\n",
       "      <th>gender</th>\n",
       "    </tr>\n",
       "  </thead>\n",
       "  <tbody>\n",
       "    <tr>\n",
       "      <th>0</th>\n",
       "      <td>0</td>\n",
       "      <td>0</td>\n",
       "      <td>0</td>\n",
       "    </tr>\n",
       "    <tr>\n",
       "      <th>1</th>\n",
       "      <td>1</td>\n",
       "      <td>0</td>\n",
       "      <td>0</td>\n",
       "    </tr>\n",
       "    <tr>\n",
       "      <th>2</th>\n",
       "      <td>2</td>\n",
       "      <td>0</td>\n",
       "      <td>1</td>\n",
       "    </tr>\n",
       "    <tr>\n",
       "      <th>3</th>\n",
       "      <td>3</td>\n",
       "      <td>0</td>\n",
       "      <td>0</td>\n",
       "    </tr>\n",
       "    <tr>\n",
       "      <th>4</th>\n",
       "      <td>4</td>\n",
       "      <td>0</td>\n",
       "      <td>1</td>\n",
       "    </tr>\n",
       "  </tbody>\n",
       "</table>\n",
       "</div>"
      ],
      "text/plain": [
       "   patient  label1  gender\n",
       "0        0       0       0\n",
       "1        1       0       0\n",
       "2        2       0       1\n",
       "3        3       0       0\n",
       "4        4       0       1"
      ]
     },
     "execution_count": 66,
     "metadata": {},
     "output_type": "execute_result"
    }
   ],
   "source": [
    "labels_df = pd.DataFrame()\n",
    "labels_df['patient'] = list(range(n1))\n",
    "labels_df['label1'] = labels1\n",
    "labels_df['gender'] = gender1\n",
    "labels_df.to_csv('labels_alz.csv', index=False)\n",
    "labels_df.head()"
   ]
  },
  {
   "cell_type": "code",
   "execution_count": 65,
   "metadata": {},
   "outputs": [
    {
     "data": {
      "text/html": [
       "<div>\n",
       "<style scoped>\n",
       "    .dataframe tbody tr th:only-of-type {\n",
       "        vertical-align: middle;\n",
       "    }\n",
       "\n",
       "    .dataframe tbody tr th {\n",
       "        vertical-align: top;\n",
       "    }\n",
       "\n",
       "    .dataframe thead th {\n",
       "        text-align: right;\n",
       "    }\n",
       "</style>\n",
       "<table border=\"1\" class=\"dataframe\">\n",
       "  <thead>\n",
       "    <tr style=\"text-align: right;\">\n",
       "      <th></th>\n",
       "      <th>patient</th>\n",
       "      <th>label1</th>\n",
       "      <th>gender</th>\n",
       "    </tr>\n",
       "  </thead>\n",
       "  <tbody>\n",
       "    <tr>\n",
       "      <th>0</th>\n",
       "      <td>0</td>\n",
       "      <td>1</td>\n",
       "      <td>1</td>\n",
       "    </tr>\n",
       "    <tr>\n",
       "      <th>1</th>\n",
       "      <td>1</td>\n",
       "      <td>1</td>\n",
       "      <td>1</td>\n",
       "    </tr>\n",
       "    <tr>\n",
       "      <th>2</th>\n",
       "      <td>2</td>\n",
       "      <td>1</td>\n",
       "      <td>1</td>\n",
       "    </tr>\n",
       "    <tr>\n",
       "      <th>3</th>\n",
       "      <td>3</td>\n",
       "      <td>1</td>\n",
       "      <td>1</td>\n",
       "    </tr>\n",
       "    <tr>\n",
       "      <th>4</th>\n",
       "      <td>4</td>\n",
       "      <td>1</td>\n",
       "      <td>0</td>\n",
       "    </tr>\n",
       "  </tbody>\n",
       "</table>\n",
       "</div>"
      ],
      "text/plain": [
       "   patient  label1  gender\n",
       "0        0       1       1\n",
       "1        1       1       1\n",
       "2        2       1       1\n",
       "3        3       1       1\n",
       "4        4       1       0"
      ]
     },
     "execution_count": 65,
     "metadata": {},
     "output_type": "execute_result"
    }
   ],
   "source": [
    "labels_df = pd.DataFrame()\n",
    "labels_df['patient'] = list(range(n2))\n",
    "labels_df['label1'] = labels2\n",
    "labels_df['gender'] = gender2\n",
    "labels_df.to_csv('labels_dem.csv', index=False)\n",
    "labels_df.head()"
   ]
  },
  {
   "cell_type": "code",
   "execution_count": null,
   "metadata": {},
   "outputs": [],
   "source": []
  }
 ],
 "metadata": {
  "kernelspec": {
   "display_name": "Python 3 (ipykernel)",
   "language": "python",
   "name": "python3"
  },
  "language_info": {
   "codemirror_mode": {
    "name": "ipython",
    "version": 3
   },
   "file_extension": ".py",
   "mimetype": "text/x-python",
   "name": "python",
   "nbconvert_exporter": "python",
   "pygments_lexer": "ipython3",
   "version": "3.9.12"
  }
 },
 "nbformat": 4,
 "nbformat_minor": 1
}
