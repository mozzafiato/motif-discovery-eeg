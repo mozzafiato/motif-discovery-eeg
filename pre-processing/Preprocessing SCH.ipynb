{
 "cells": [
  {
   "cell_type": "code",
   "execution_count": null,
   "metadata": {
    "pycharm": {
     "is_executing": true
    }
   },
   "outputs": [],
   "source": [
    "import pandas as pd\n",
    "import os\n",
    "import numpy as np\n",
    "import pickle"
   ]
  },
  {
   "cell_type": "code",
   "execution_count": null,
   "metadata": {},
   "outputs": [],
   "source": [
    "# this dataset\n",
    "channels = ['F7', 'F3', 'F4', 'F8', 'T3', 'C3', 'Cz', 'C4', 'T4', 'T5', 'P3', 'Pz', 'P4', 'T6', 'O1', 'O2']\n",
    "\n",
    "n = 84\n",
    "\n",
    "labels = np.zeros(n)\n",
    "print(labels)\n",
    "\n",
    "patient_dict = dict()\n",
    "for i in range(n):\n",
    "    patient_dict[i] = dict()\n",
    "    for j in range(len(channels)):\n",
    "        patient_dict[i][j] = []\n",
    "        \n",
    "patient_dict"
   ]
  },
  {
   "cell_type": "code",
   "execution_count": null,
   "metadata": {
    "scrolled": true
   },
   "outputs": [],
   "source": [
    "path = './norm'\n",
    "file_i = 0\n",
    "for filename in os.listdir(path):\n",
    "    with open(os.path.join(path, filename), 'r') as f: # open in readonly mode\n",
    "        splitted = filename.lower().split('w')\n",
    "        print(p_id, file_i)\n",
    "        labels[file_i] = 0\n",
    "        #print(splitted)\n",
    "        print(filename)\n",
    "        eegs = np.array([float(c) for c in f])\n",
    "        eegs_splitted = np.split(eegs, len(channels))\n",
    "        for c, splits in enumerate(eegs_splitted):\n",
    "            patient_dict[file_i][c] = splits\n",
    "        file_i += 1"
   ]
  },
  {
   "cell_type": "code",
   "execution_count": null,
   "metadata": {},
   "outputs": [],
   "source": [
    "path = './sch'\n",
    "for filename in os.listdir(path):\n",
    "    with open(os.path.join(path, filename), 'r') as f: # open in readonly mode\n",
    "        splitted = filename.lower().split('w')\n",
    "        print(p_id, file_i)\n",
    "        labels[file_i] = 1\n",
    "        #print(splitted)\n",
    "        print(filename)\n",
    "        eegs = np.array([float(c) for c in f])\n",
    "        eegs_splitted = np.split(eegs, len(channels))\n",
    "        for c, splits in enumerate(eegs_splitted):\n",
    "            patient_dict[file_i][c] = splits\n",
    "        file_i += 1"
   ]
  },
  {
   "cell_type": "code",
   "execution_count": null,
   "metadata": {
    "scrolled": true
   },
   "outputs": [],
   "source": [
    "with open('patient_eeg_84.pickle', 'wb') as fp:\n",
    "    pickle.dump(patient_dict, fp)\n",
    "    print('dictionary saved successfully to file')"
   ]
  },
  {
   "cell_type": "code",
   "execution_count": null,
   "metadata": {},
   "outputs": [],
   "source": [
    "idx = list(range(n))\n",
    "labels_df = pd.DataFrame()\n",
    "labels_df['patient'] = idx\n",
    "labels_df['label1'] = labels\n",
    "labels_df.head()\n",
    "labels_df.to_csv('labels.csv')"
   ]
  },
  {
   "cell_type": "code",
   "execution_count": null,
   "metadata": {},
   "outputs": [],
   "source": [
    "labels_df.to_csv('labels.csv', index=False)"
   ]
  },
  {
   "cell_type": "code",
   "execution_count": null,
   "metadata": {},
   "outputs": [],
   "source": []
  }
 ],
 "metadata": {
  "kernelspec": {
   "display_name": "Python 3 (ipykernel)",
   "language": "python",
   "name": "python3"
  },
  "language_info": {
   "codemirror_mode": {
    "name": "ipython",
    "version": 3
   },
   "file_extension": ".py",
   "mimetype": "text/x-python",
   "name": "python",
   "nbconvert_exporter": "python",
   "pygments_lexer": "ipython3",
   "version": "3.9.12"
  }
 },
 "nbformat": 4,
 "nbformat_minor": 1
}
